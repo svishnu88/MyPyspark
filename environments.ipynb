{
 "cells": [
  {
   "cell_type": "markdown",
   "metadata": {},
   "source": [
    "# Setting up Anaconda 3+"
   ]
  },
  {
   "cell_type": "markdown",
   "metadata": {},
   "source": [
    "```bash\n",
    "\n",
    "cp ~/Downloads/Anaconda3-4.0.0-Linux-x86_64.sh ~/\n",
    "chmod +x Anaconda3-4.0.0-Linux-x86_64.sh \n",
    "\n",
    "Run \n",
    "\n",
    "./Anaconda3-4.0.0-Linux-x86_64.sh\n",
    "\n",
    "\n",
    "Press Enter when asked for. \n",
    "Type Yes when asked for.\n",
    "\n",
    "\n",
    "You can use nohup to allow jupter run in background detached from the putty session \n",
    "\n"
    "Once the installation is done , type the below \n",
    "\n",
    "source .bashrc\n",
    "\n",
    "jupyter notebook\n",
    "\n",
    "Creating a virtual private environment.\n",
    "\n",
    "```"
   ]
  },
  {
   "cell_type": "markdown",
   "metadata": {},
   "source": [
    "# Conda \n",
    "\n",
    "http://bit.ly/condaquickinstall"
   ]
  },
  {
   "cell_type": "markdown",
   "metadata": {},
   "source": [
    "```bash\n",
    "\n",
    "Download the required version for your OS .\n",
    "\n",
    "wget https://repo.continuum.io/miniconda/Miniconda-latest-MacOSX-x86_64.sh\n",
    "\n",
    "chmod +x Miniconda-latest-MacOSX-x86_64.sh\n",
    "\n",
    "# Agree to licenses\n",
    "./Miniconda-latest-MacOSX-x86_64.sh\n",
    "\n",
    "source ~/.bashrc\n",
    "```"
   ]
  },
  {
   "cell_type": "markdown",
   "metadata": {},
   "source": [
    "# Create the environment of your choice. Python2 / Python3 / R"
   ]
  },
  {
   "cell_type": "markdown",
   "metadata": {},
   "source": [
    "```bash\n",
    "conda update conda -y\n",
    "\n",
    "# Python 2\n",
    "conda create -n py2 python=2 anaconda jupyter notebook -y \n",
    "\n",
    "# Python 3\n",
    "conda create -n py3 python=3 anaconda jupyter notebook -y \n",
    "\n",
    "# Setup a seperate kernel after you activate a particular env , if this is not done your jupyter could be using default python\n",
    "conda install notebook ipykernel \n",
    "\n",
    "# Install R\n",
    "conda create -n jupyter_r -c r r-irkernel r-essentials r-recommended rpy2 -y \n",
    "```"
   ]
  },
  {
   "cell_type": "markdown",
   "metadata": {},
   "source": [
    "```bash\n",
    "source activate jupyter_r\n",
    "source deactivate\n",
    "\n",
    "conda env list\n",
    "```"
   ]
  },
  {
   "cell_type": "markdown",
   "metadata": {},
   "source": [
    "# Calling Jupyter notebook with Spark configured."
   ]
  },
  {
   "cell_type": "markdown",
   "metadata": {},
   "source": [
    "```bash\n",
    "\n",
    "Download Spark .\n",
    "\n",
    "From Spark directory call the below\n",
    "\n",
    "Calling Ipython notebook\n",
    "\n",
    "PYSPARK_DRIVER_PYTHON=jupyter PYSPARK_DRIVER_PYTHON_OPTS=\"notebook \" bin/spark/bin/pyspark\n",
    "\n",
    "For using Python 3 try the below.\n",
    "\n",
    "PYSPARK_PYTHON=python3 PYSPARK_DRIVER_PYTHON=jupyter PYSPARK_DRIVER_PYTHON_OPTS=\"notebook \" bin/spark/bin/pyspark\n",
    "\n",
    "create a alias to start spark on Jupyter notebook , add the below in bash_profile or bashrc file.\n",
    "\n",
    "alias jspark='PYSPARK_PYTHON=python3 PYSPARK_DRIVER_PYTHON=jupyter PYSPARK_DRIVER_PYTHON_OPTS=\"notebook \" ~/sparkhomedir'\n",
    "\n",
    "```"
   ]
  },
  {
   "cell_type": "markdown",
   "metadata": {},
   "source": [
    "# Adding Library to PySpark"
   ]
  },
  {
   "cell_type": "markdown",
   "metadata": {},
   "source": [
    "```bash\n",
    "PYSPARK_DRIVER_PYTHON=jupyter PYSPARK_DRIVER_PYTHON_OPTS=\"notebook \" bin/spark/bin/pyspark --packages com.databricks:spark-csv_2.11:1.4.0  \n",
    "\n",
    "CSV READER IS ADDED. If you want other packages from maven repository , you can include them after packages.\n",
    "\n",
    "```"
   ]
  },
  {
   "cell_type": "code",
   "execution_count": null,
   "metadata": {
    "collapsed": true
   },
   "outputs": [],
   "source": []
  }
 ],
 "metadata": {
  "kernelspec": {
   "display_name": "Python 3",
   "language": "python",
   "name": "python3"
  },
  "language_info": {
   "codemirror_mode": {
    "name": "ipython",
    "version": 3
   },
   "file_extension": ".py",
   "mimetype": "text/x-python",
   "name": "python",
   "nbconvert_exporter": "python",
   "pygments_lexer": "ipython3",
   "version": "3.5.1"
  }
 },
 "nbformat": 4,
 "nbformat_minor": 0
}
