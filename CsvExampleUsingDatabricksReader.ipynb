{
 "cells": [
  {
   "cell_type": "markdown",
   "metadata": {},
   "source": [
    "## Spark does not come with a default csv reader. Databricks provide a library which we can use , to load and write the csv files. The notebook is tested using\n",
    "```bash\n",
    "Python3\n",
    "Spark-1.6.1\n",
    "\n",
    "You can load the package using --packages com.databricks:spark-csv_2.10:1.4.0 when you start your pyspark.\n",
    "```"
   ]
  },
  {
   "cell_type": "code",
   "execution_count": 1,
   "metadata": {
    "collapsed": true
   },
   "outputs": [],
   "source": [
    "df = sqlContext.read.format(\"com.databricks.spark.csv\").load('data/beatles.csv')"
   ]
  },
  {
   "cell_type": "code",
   "execution_count": 2,
   "metadata": {
    "collapsed": false
   },
   "outputs": [
    {
     "name": "stdout",
     "output_type": "stream",
     "text": [
      "+---+--------------------+----------+--------------------+-----------------+-----------------+-----------------+------------------+-----------+----+\n",
      "| C0|                  C1|        C2|                  C3|               C4|               C5|               C6|                C7|         C8|  C9|\n",
      "+---+--------------------+----------+--------------------+-----------------+-----------------+-----------------+------------------+-----------+----+\n",
      "|   |               Title|  Released|               Label|UK Chart Position|US Chart Position|BPI Certification|RIAA Certification|Count Songs|Year|\n",
      "|  0| Yesterday and Today|1966-06-15|         Capitol(US)|                 |              1.0|                 |        2xPlatinum|         11|1966|\n",
      "|  1|            Revolver|1966-08-05|      Parlophone(UK)|              1.0|                 |         Platinum|                  |         14|1966|\n",
      "|  2|            Revolver|1966-08-08|      Capitol(US)[C]|                 |              1.0|                 |        5xPlatinum|         14|1966|\n",
      "|  3|Sgt. Pepper's Lon...|1967-06-01|Parlophone(UK), C...|              1.0|              1.0|       3xPlatinum|       11xPlatinum|         13|1967|\n",
      "|  4|Magical Mystery Tour|1967-11-27|Parlophone(UK), C...|                 |              1.0|         Platinum|        6xPlatinum|         11|1967|\n",
      "|  5|         The Beatles|1968-11-22|Apple(UK), Capito...|              1.0|              1.0|         Platinum|       19xPlatinum|         30|1968|\n",
      "|  6|    Yellow Submarine|1969-01-13|Apple(UK), Capito...|              3.0|              2.0|           Silver|          Platinum|          6|1969|\n",
      "|  7|          Abbey Road|1969-09-26|Apple(UK), Capito...|              1.0|              1.0|       2xPlatinum|       12xPlatinum|         17|1969|\n",
      "|  8|           Let It Be|1970-05-08|Apple(UK),United ...|              1.0|              1.0|             Gold|        4xPlatinum|         12|1970|\n",
      "+---+--------------------+----------+--------------------+-----------------+-----------------+-----------------+------------------+-----------+----+\n",
      "\n"
     ]
    }
   ],
   "source": [
    "df.show()"
   ]
  },
  {
   "cell_type": "code",
   "execution_count": 3,
   "metadata": {
    "collapsed": false
   },
   "outputs": [],
   "source": [
    "df.select('C1','C2').write.format('com.databricks.spark.csv').save('data/tmp/beatles.csv')\n",
    "#df.select('year', 'model').write.format('com.databricks.spark.csv').save('newcars.csv')"
   ]
  },
  {
   "cell_type": "code",
   "execution_count": 4,
   "metadata": {
    "collapsed": false
   },
   "outputs": [
    {
     "name": "stdout",
     "output_type": "stream",
     "text": [
      "\u001b[34mbeatles.csv\u001b[m\u001b[m/\r\n"
     ]
    }
   ],
   "source": [
    "ls data/tmp/\n"
   ]
  },
  {
   "cell_type": "code",
   "execution_count": null,
   "metadata": {
    "collapsed": true
   },
   "outputs": [],
   "source": []
  }
 ],
 "metadata": {
  "kernelspec": {
   "display_name": "Python 3",
   "language": "python",
   "name": "python3"
  },
  "language_info": {
   "codemirror_mode": {
    "name": "ipython",
    "version": 3
   },
   "file_extension": ".py",
   "mimetype": "text/x-python",
   "name": "python",
   "nbconvert_exporter": "python",
   "pygments_lexer": "ipython3",
   "version": "3.5.1"
  }
 },
 "nbformat": 4,
 "nbformat_minor": 0
}
